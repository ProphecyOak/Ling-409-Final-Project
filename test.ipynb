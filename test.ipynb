{
 "cells": [
  {
   "cell_type": "code",
   "execution_count": 1,
   "metadata": {},
   "outputs": [],
   "source": [
    "with open('Data/wiki-fra.dat') as wikifile:\n",
    "    wikilines = [line.strip() for line in wikifile if line.strip() != '']\n",
    "\n",
    "wikimap = {}\n",
    "for line in wikilines:\n",
    "    graph, phone = line.split('\\t')\n",
    "    if not graph in wikimap.keys():\n",
    "        wikimap[graph] = []\n",
    "    wikimap[graph].append(phone)"
   ]
  },
  {
   "cell_type": "code",
   "execution_count": 4,
   "metadata": {},
   "outputs": [
    {
     "name": "stdout",
     "output_type": "stream",
     "text": [
      "marked-fra.dev.csv 50\n",
      "marked-fra.trn.csv 450\n",
      "marked-fra.tst.csv 500\n"
     ]
    }
   ],
   "source": [
    "import os\n",
    "\n",
    "files = [ 'marked-fra.{}.csv'.format(x) for x in ('dev', 'trn', 'tst') ]\n",
    "    \n",
    "wordmap = {}\n",
    "for f in files:\n",
    "    with open(os.path.join('data', f)) as mapfile:\n",
    "        for line in mapfile:\n",
    "            if line.strip() != '':\n",
    "                word, fam = line.strip().split(',')\n",
    "                wordmap[word] = fam\n"
   ]
  },
  {
   "cell_type": "code",
   "execution_count": 13,
   "metadata": {},
   "outputs": [
    {
     "data": {
      "text/plain": [
       "False"
      ]
     },
     "execution_count": 13,
     "metadata": {},
     "output_type": "execute_result"
    }
   ],
   "source": [
    "'hell-o'.lower() == 'hell-o'"
   ]
  }
 ],
 "metadata": {
  "kernelspec": {
   "display_name": "Python 3",
   "language": "python",
   "name": "python3"
  },
  "language_info": {
   "codemirror_mode": {
    "name": "ipython",
    "version": 3
   },
   "file_extension": ".py",
   "mimetype": "text/x-python",
   "name": "python",
   "nbconvert_exporter": "python",
   "pygments_lexer": "ipython3",
   "version": "3.11.5"
  }
 },
 "nbformat": 4,
 "nbformat_minor": 2
}
