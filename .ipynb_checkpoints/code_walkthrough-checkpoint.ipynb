{
 "cells": [
  {
   "cell_type": "code",
   "execution_count": 1,
   "id": "14d24729-54a0-4aa6-b491-3f6384d96c3e",
   "metadata": {
    "tags": []
   },
   "outputs": [],
   "source": [
    "import inspect"
   ]
  },
  {
   "cell_type": "markdown",
   "id": "e3cba7e9-8bab-41d1-9ea6-435eae68f7a4",
   "metadata": {},
   "source": [
    "# Code Demo/Walkthrough\n",
    "\n",
    "Contents:\n",
    "1. Cleaned version\n",
    "2. UX improvements\n",
    "3. External files\n",
    "4. Nonneural tweaks\n",
    "5. The results"
   ]
  },
  {
   "cell_type": "markdown",
   "id": "4c002e23-f89f-4b60-a11d-eaf61169bdd4",
   "metadata": {},
   "source": [
    "### Cleaned Code (nonneural_myteam.py)\n",
    "\n",
    "We decided to rewrite the original nonneural.py code from scratch, really just to see how well we understood it, and in the process decided that a lot of what they had written was not very nice. The goal of this notebook is not really to explain the full extent of the minor tweaks, but some of them feel significant enough to mention:\n",
    "\n",
    "#### Levenshtein memoizer\n",
    "\n",
    "Their version:"
   ]
  },
  {
   "cell_type": "code",
   "execution_count": null,
   "id": "5f009f0f-d173-4886-901e-cacd86874926",
   "metadata": {},
   "outputs": [],
   "source": [
    "# DON'T RUN ME\n",
    "\n",
    "def memolrec(func):\n",
    "    \"\"\"Memoizer for Levenshtein.\"\"\"\n",
    "    cache = {}\n",
    "    \n",
    "    def wrap(sp, tp, sr, tr, cost):\n",
    "        if (sr,tr) not in cache:\n",
    "            res = func(sp, tp, sr, tr, cost) # why call it using the past values...\n",
    "            \n",
    "            cache[(sr,tr)] = (res[0][len(sp):], res[1][len(tp):], res[4] - cost)\n",
    "            # ...only to immediately remove them from the output?\n",
    "            \n",
    "        return sp + cache[(sr,tr)][0], tp + cache[(sr,tr)][1], '', '', cost + cache[(sr,tr)][2]\n",
    "    \n",
    "    return wrap"
   ]
  },
  {
   "cell_type": "markdown",
   "id": "1a3c9c6e-8fd2-4f28-9364-e24393094397",
   "metadata": {},
   "source": [
    "Our version:"
   ]
  },
  {
   "cell_type": "code",
   "execution_count": null,
   "id": "ef5b5e1a-090c-4cbf-91d0-fea7499fed14",
   "metadata": {},
   "outputs": [],
   "source": [
    "# DON'T RUN ME EITHER\n",
    "def memolrec(func):\n",
    "    \"\"\"Wrapper function/memoizer for recursive levenshtein implementation. Returns 'decorated' version\n",
    "    of levenshtein.\"\"\"\n",
    "\n",
    "    cache = {}\n",
    "\n",
    "    @wraps(func)\n",
    "    def wrap(spast, tpast, srem, trem, cost):\n",
    "        \n",
    "        if (srem, trem) not in cache:\n",
    "            res = func('', '', srem, trem, 0) # this function call does not need to know the previous values\n",
    "            \n",
    "            cache[(srem, trem)] = (res[0], res[1], res[4]) # now this line can directly store the output\n",
    "        \n",
    "        aln_srem, aln_trem, rem_cost = cache[(srem, trem)]\n",
    "        return spast+aln_srem, tpast+aln_trem, '', '', cost + rem_cost\n",
    "    \n",
    "    return wrap # return decorated function"
   ]
  },
  {
   "cell_type": "markdown",
   "id": "bdb3249a-020b-47bf-b195-6c7e4225c4b5",
   "metadata": {},
   "source": [
    "It might seem trivial, but for whatever reason, we noticed the original code had a really odd tendency to\n",
    "insert a bunch of characters before the final 'r' when aligning a lemma and a form, even if the inflected\n",
    "form had no r's in the suffix (like 'abjure___r__' to 'abjurassions'). This had no significant impact on the\n",
    "ultimate performance of the code, but curiously when run with none of our other changes, it actually guesses correctly on exactly one extra word (an inflected form of ouïr).\n",
    "\n",
    "#### Prefix and suffix redundancies\n",
    "\n",
    "This was part of the assignment, but I was personally a fan of this change because it made so much of the code look a lot nicer. We established two global constants (so as to prevent potential difficult-to-track-down typos from hard-coding the values everywhere)\n",
    "```python\n",
    "...\n",
    "# global constants\n",
    "PRE = 0\n",
    "SUF = 1\n",
    "...\n",
    "```\n",
    "and then everything that involved storing prefix/suffix rules in similar ways or applying almost identical algorithms to the same thing twice could be done a bit more elegantly with lists/tuples/for-loops, e.g.\n",
    "```python\n",
    "rules[PRE].add((inpre, outpre))\n",
    "```\n",
    "or\n",
    "```python\n",
    "for fix in (PRE, SUF):\n",
    "    \n",
    "    if msd not in allrules[fix]:\n",
    "        ...\n",
    "```\n",
    "\n",
    "#### Command-line argument parsing\n",
    "\n",
    "We just love being able to define our own options/arguments and then later accessing them as object attributes! It is super neat. This also happens to be the recommended library for retrieving comman-line arguments in python3. The `getopt` module is designed for those who are accustomed to C-style option retrieval and too stubborn to change their ways. We, however, are young, and we believe in progress. The accepted practices of C programming won't keep us down!\n",
    "\n",
    "That's how this:"
   ]
  },
  {
   "cell_type": "code",
   "execution_count": 2,
   "id": "8a4dc143-5637-475e-a6ee-40cfcd65dcad",
   "metadata": {
    "tags": []
   },
   "outputs": [
    {
     "ename": "NameError",
     "evalue": "name 'sys' is not defined",
     "output_type": "error",
     "traceback": [
      "\u001b[0;31m---------------------------------------------------------------------------\u001b[0m",
      "\u001b[0;31mNameError\u001b[0m                                 Traceback (most recent call last)",
      "Cell \u001b[0;32mIn[2], line 24\u001b[0m\n\u001b[1;32m     21\u001b[0m     \u001b[38;5;66;03m# REST OF MAIN FUNCTION WAS HERE\u001b[39;00m\n\u001b[1;32m     23\u001b[0m \u001b[38;5;28;01mif\u001b[39;00m \u001b[38;5;18m__name__\u001b[39m \u001b[38;5;241m==\u001b[39m \u001b[38;5;124m\"\u001b[39m\u001b[38;5;124m__main__\u001b[39m\u001b[38;5;124m\"\u001b[39m:\n\u001b[0;32m---> 24\u001b[0m     main(sys\u001b[38;5;241m.\u001b[39margv)\n",
      "\u001b[0;31mNameError\u001b[0m: name 'sys' is not defined"
     ]
    }
   ],
   "source": [
    "# DO NOT RUN ME PLEASE!\n",
    "\n",
    "def main(argv):\n",
    "    options, remainder = getopt.gnu_getopt(argv[1:], 'ohp:', ['output','help','path='])\n",
    "    TEST, OUTPUT, HELP, path = False,False, False, '../data/' # I hate this kind of variable assignment, tbch\n",
    "    for opt, arg in options:\n",
    "        if opt in ('-o', '--output'):\n",
    "            OUTPUT = True\n",
    "        if opt in ('-t', '--test'):\n",
    "            TEST = True\n",
    "        if opt in ('-h', '--help'):\n",
    "            HELP = True\n",
    "        if opt in ('-p', '--path'):\n",
    "            path = arg\n",
    "\n",
    "    if HELP:\n",
    "        # there were a bunch of print statements here that you had to keep editing by hand\n",
    "        # every time you wanted to add new options\n",
    "        pass\n",
    "    \n",
    "    # REST OF MAIN FUNCTION WAS HERE\n",
    "\n",
    "if __name__ == \"__main__\":\n",
    "    main(sys.argv)"
   ]
  },
  {
   "cell_type": "markdown",
   "id": "1dcc0178-7c6a-4ed0-8993-f087f28decca",
   "metadata": {},
   "source": [
    "became this:"
   ]
  },
  {
   "cell_type": "code",
   "execution_count": null,
   "id": "211f74ed-c132-43bf-b977-36d48a7bbe17",
   "metadata": {},
   "outputs": [],
   "source": [
    "# I KNOW I'M COOL, BUT DON'T RUN ME EITHER\n",
    "\n",
    "def main(parsed):\n",
    "    # wow, i'm so neat and uncluttered\n",
    "    out = parsed.out\n",
    "    evl_ext = parsed.eval # and then access it here! (see below)\n",
    "    path = parsed.path\n",
    "    \n",
    "    # no help print-statements? no problem! the argparse library takes care of it for you!\n",
    "    \n",
    "    # REST OF MAIN FUNCTION WAS HERE\n",
    "\n",
    "if __name__ == '__main__':\n",
    "    parser = argparse.ArgumentParser(prog='NonNeuralMyTeam',\n",
    "                                     description='Our cleaned and very slightly edited version'\n",
    "                                        + ' of the original nonneural.py code.',\n",
    "                                     epilog='Generating this help message was done with the argparse library'\n",
    "                                        + ' instead of manually with a bunch of print-statements.')\n",
    "    \n",
    "    parser.add_argument('-o', '--output',\n",
    "                        dest='out',\n",
    "                        action='store_true',\n",
    "                        help='generate output files with guesses. files are written to the same place as'\n",
    "                            + ' the path argument (or default value if no path was specified) under <lang>.out')\n",
    "    parser.add_argument('-t', '--test',\n",
    "                        dest='eval', # look, see? you can tell it what the variable is called (see above)\n",
    "                        action='store_const',\n",
    "                        const='.tst',\n",
    "                        default='.dev',\n",
    "                        help='evaluate models on test instead of dev data.')\n",
    "    parser.add_argument('-p', '--path',\n",
    "                        dest='path',\n",
    "                        default='data',\n",
    "                        help='path to the directory containing data files. defaults to \\'data\\'.')"
   ]
  }
 ],
 "metadata": {
  "kernelspec": {
   "display_name": "Python 3 (ipykernel)",
   "language": "python",
   "name": "python3"
  },
  "language_info": {
   "codemirror_mode": {
    "name": "ipython",
    "version": 3
   },
   "file_extension": ".py",
   "mimetype": "text/x-python",
   "name": "python",
   "nbconvert_exporter": "python",
   "pygments_lexer": "ipython3",
   "version": "3.11.4"
  }
 },
 "nbformat": 4,
 "nbformat_minor": 5
}
